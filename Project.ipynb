{
 "cells": [
  {
   "cell_type": "code",
   "id": "initial_id",
   "metadata": {
    "collapsed": true,
    "ExecuteTime": {
     "end_time": "2025-07-02T07:15:02.053502Z",
     "start_time": "2025-07-02T07:15:01.740921Z"
    }
   },
   "source": [
    "import time\n",
    "import pandas as pd\n",
    "from selenium import webdriver\n",
    "from selenium.webdriver.common.by import By\n",
    "from selenium.webdriver.common.keys import Keys\n",
    "from selenium.webdriver.support.ui import WebDriverWait\n",
    "from selenium.webdriver.support import expected_conditions as EC"
   ],
   "outputs": [
    {
     "name": "stderr",
     "output_type": "stream",
     "text": [
      "/Users/hasan/Library/Python/3.9/lib/python/site-packages/urllib3/__init__.py:35: NotOpenSSLWarning: urllib3 v2 only supports OpenSSL 1.1.1+, currently the 'ssl' module is compiled with 'LibreSSL 2.8.3'. See: https://github.com/urllib3/urllib3/issues/3020\n",
      "  warnings.warn(\n"
     ]
    }
   ],
   "execution_count": 2
  },
  {
   "metadata": {
    "ExecuteTime": {
     "end_time": "2025-07-02T07:15:03.168735Z",
     "start_time": "2025-07-02T07:15:03.139283Z"
    }
   },
   "cell_type": "code",
   "source": [
    "data = pd.read_csv('Classe_A_per_nome_commerciale_16_12_2024.csv', sep=';')\n",
    "data = data.iloc[5113:5444]\n",
    "DropList = ['Prezzo al pubblico �','X=in lista di trasparenza Aifa 16-12-2024 ','Solo in lista di Regione:', 'Metri cubi ossigeno ']\n",
    "\n",
    "for col in DropList:\n",
    "    if col in data.columns:\n",
    "        data.drop(col, axis=1, inplace=True)\n"
   ],
   "id": "c5be042b145982a6",
   "outputs": [],
   "execution_count": 3
  },
  {
   "metadata": {
    "ExecuteTime": {
     "end_time": "2025-07-02T07:15:04.144543Z",
     "start_time": "2025-07-02T07:15:04.139555Z"
    }
   },
   "cell_type": "code",
   "source": "data.columns",
   "id": "d56e1a4a4cbf5d28",
   "outputs": [
    {
     "data": {
      "text/plain": [
       "Index(['Principio Attivo', 'Descrizione Gruppo', 'Denominazione e Confezione',\n",
       "       'Titolare AIC', 'AIC', 'Codice Gruppo Equivalenza'],\n",
       "      dtype='object')"
      ]
     },
     "execution_count": 4,
     "metadata": {},
     "output_type": "execute_result"
    }
   ],
   "execution_count": 4
  },
  {
   "metadata": {
    "ExecuteTime": {
     "end_time": "2025-07-02T07:15:05.749007Z",
     "start_time": "2025-07-02T07:15:05.742294Z"
    }
   },
   "cell_type": "code",
   "source": "data.head()",
   "id": "27d18b36782b4324",
   "outputs": [
    {
     "data": {
      "text/plain": [
       "     Principio Attivo                                 Descrizione Gruppo  \\\n",
       "5113     Levotiroxina  LEVOTIROXINA 112MCG/ML 1ML 30 UNITA' USO ORALE...   \n",
       "5114     Levotiroxina  LEVOTIROXINA 125MCG/ML 1ML 30 UNITA' USO ORALE...   \n",
       "5115     Levotiroxina  LEVOTIROXINA 13MCG/ML 1ML 30 UNITA' USO ORALE ...   \n",
       "5116     Levotiroxina  LEVOTIROXINA 137MCG/ML 1ML 30 UNITA' USO ORALE...   \n",
       "5117     Levotiroxina  LEVOTIROXINA 150MCG/ML 1ML 30 UNITA' USO ORALE...   \n",
       "\n",
       "                             Denominazione e Confezione  \\\n",
       "5113  LEVOTIRSOL*orale soluz 30 flaconcini 1 ml 112 mcg   \n",
       "5114  LEVOTIRSOL*orale soluz 30 flaconcini 1 ml 125 mcg   \n",
       "5115   LEVOTIRSOL*orale soluz 30 flaconcini 1 ml 13 mcg   \n",
       "5116  LEVOTIRSOL*orale soluz 30 flaconcini 1 ml 137 mcg   \n",
       "5117  LEVOTIRSOL*orale soluz 30 flaconcini 1 ml 150 mcg   \n",
       "\n",
       "                      Titolare AIC       AIC Codice Gruppo Equivalenza  \n",
       "5113  IBSA FARMACEUTICI ITALIA Srl  46860072                       LPJ  \n",
       "5114  IBSA FARMACEUTICI ITALIA Srl  46860084                       LPK  \n",
       "5115  IBSA FARMACEUTICI ITALIA Srl  46860019                       LPH  \n",
       "5116  IBSA FARMACEUTICI ITALIA Srl  46860096                       LPL  \n",
       "5117  IBSA FARMACEUTICI ITALIA Srl  46860108                       LPM  "
      ],
      "text/html": [
       "<div>\n",
       "<style scoped>\n",
       "    .dataframe tbody tr th:only-of-type {\n",
       "        vertical-align: middle;\n",
       "    }\n",
       "\n",
       "    .dataframe tbody tr th {\n",
       "        vertical-align: top;\n",
       "    }\n",
       "\n",
       "    .dataframe thead th {\n",
       "        text-align: right;\n",
       "    }\n",
       "</style>\n",
       "<table border=\"1\" class=\"dataframe\">\n",
       "  <thead>\n",
       "    <tr style=\"text-align: right;\">\n",
       "      <th></th>\n",
       "      <th>Principio Attivo</th>\n",
       "      <th>Descrizione Gruppo</th>\n",
       "      <th>Denominazione e Confezione</th>\n",
       "      <th>Titolare AIC</th>\n",
       "      <th>AIC</th>\n",
       "      <th>Codice Gruppo Equivalenza</th>\n",
       "    </tr>\n",
       "  </thead>\n",
       "  <tbody>\n",
       "    <tr>\n",
       "      <th>5113</th>\n",
       "      <td>Levotiroxina</td>\n",
       "      <td>LEVOTIROXINA 112MCG/ML 1ML 30 UNITA' USO ORALE...</td>\n",
       "      <td>LEVOTIRSOL*orale soluz 30 flaconcini 1 ml 112 mcg</td>\n",
       "      <td>IBSA FARMACEUTICI ITALIA Srl</td>\n",
       "      <td>46860072</td>\n",
       "      <td>LPJ</td>\n",
       "    </tr>\n",
       "    <tr>\n",
       "      <th>5114</th>\n",
       "      <td>Levotiroxina</td>\n",
       "      <td>LEVOTIROXINA 125MCG/ML 1ML 30 UNITA' USO ORALE...</td>\n",
       "      <td>LEVOTIRSOL*orale soluz 30 flaconcini 1 ml 125 mcg</td>\n",
       "      <td>IBSA FARMACEUTICI ITALIA Srl</td>\n",
       "      <td>46860084</td>\n",
       "      <td>LPK</td>\n",
       "    </tr>\n",
       "    <tr>\n",
       "      <th>5115</th>\n",
       "      <td>Levotiroxina</td>\n",
       "      <td>LEVOTIROXINA 13MCG/ML 1ML 30 UNITA' USO ORALE ...</td>\n",
       "      <td>LEVOTIRSOL*orale soluz 30 flaconcini 1 ml 13 mcg</td>\n",
       "      <td>IBSA FARMACEUTICI ITALIA Srl</td>\n",
       "      <td>46860019</td>\n",
       "      <td>LPH</td>\n",
       "    </tr>\n",
       "    <tr>\n",
       "      <th>5116</th>\n",
       "      <td>Levotiroxina</td>\n",
       "      <td>LEVOTIROXINA 137MCG/ML 1ML 30 UNITA' USO ORALE...</td>\n",
       "      <td>LEVOTIRSOL*orale soluz 30 flaconcini 1 ml 137 mcg</td>\n",
       "      <td>IBSA FARMACEUTICI ITALIA Srl</td>\n",
       "      <td>46860096</td>\n",
       "      <td>LPL</td>\n",
       "    </tr>\n",
       "    <tr>\n",
       "      <th>5117</th>\n",
       "      <td>Levotiroxina</td>\n",
       "      <td>LEVOTIROXINA 150MCG/ML 1ML 30 UNITA' USO ORALE...</td>\n",
       "      <td>LEVOTIRSOL*orale soluz 30 flaconcini 1 ml 150 mcg</td>\n",
       "      <td>IBSA FARMACEUTICI ITALIA Srl</td>\n",
       "      <td>46860108</td>\n",
       "      <td>LPM</td>\n",
       "    </tr>\n",
       "  </tbody>\n",
       "</table>\n",
       "</div>"
      ]
     },
     "execution_count": 5,
     "metadata": {},
     "output_type": "execute_result"
    }
   ],
   "execution_count": 5
  },
  {
   "metadata": {
    "ExecuteTime": {
     "end_time": "2025-07-01T19:36:03.996254Z",
     "start_time": "2025-07-01T19:36:03.990842Z"
    }
   },
   "cell_type": "code",
   "source": "data.info()",
   "id": "9af41759027f2e76",
   "outputs": [
    {
     "name": "stdout",
     "output_type": "stream",
     "text": [
      "<class 'pandas.core.frame.DataFrame'>\n",
      "RangeIndex: 331 entries, 5113 to 5443\n",
      "Data columns (total 6 columns):\n",
      " #   Column                      Non-Null Count  Dtype \n",
      "---  ------                      --------------  ----- \n",
      " 0   Principio Attivo            331 non-null    object\n",
      " 1   Descrizione Gruppo          331 non-null    object\n",
      " 2   Denominazione e Confezione  331 non-null    object\n",
      " 3   Titolare AIC                331 non-null    object\n",
      " 4   AIC                         331 non-null    int64 \n",
      " 5   Codice Gruppo Equivalenza   331 non-null    object\n",
      "dtypes: int64(1), object(5)\n",
      "memory usage: 15.6+ KB\n"
     ]
    }
   ],
   "execution_count": 4
  },
  {
   "metadata": {
    "ExecuteTime": {
     "end_time": "2025-07-01T19:36:04.017684Z",
     "start_time": "2025-07-01T19:36:04.014231Z"
    }
   },
   "cell_type": "code",
   "source": [
    "data['AIC'] = data['AIC'].astype(str).apply(lambda x: '0' + x)\n",
    "data.info()"
   ],
   "id": "c23cb34a9711b635",
   "outputs": [
    {
     "name": "stdout",
     "output_type": "stream",
     "text": [
      "<class 'pandas.core.frame.DataFrame'>\n",
      "RangeIndex: 331 entries, 5113 to 5443\n",
      "Data columns (total 6 columns):\n",
      " #   Column                      Non-Null Count  Dtype \n",
      "---  ------                      --------------  ----- \n",
      " 0   Principio Attivo            331 non-null    object\n",
      " 1   Descrizione Gruppo          331 non-null    object\n",
      " 2   Denominazione e Confezione  331 non-null    object\n",
      " 3   Titolare AIC                331 non-null    object\n",
      " 4   AIC                         331 non-null    object\n",
      " 5   Codice Gruppo Equivalenza   331 non-null    object\n",
      "dtypes: object(6)\n",
      "memory usage: 15.6+ KB\n"
     ]
    }
   ],
   "execution_count": 5
  },
  {
   "metadata": {
    "ExecuteTime": {
     "end_time": "2025-07-01T19:36:04.035361Z",
     "start_time": "2025-07-01T19:36:04.030466Z"
    }
   },
   "cell_type": "code",
   "source": "data.head()",
   "id": "70ee071846b8bc57",
   "outputs": [
    {
     "data": {
      "text/plain": [
       "     Principio Attivo                                 Descrizione Gruppo  \\\n",
       "5113     Levotiroxina  LEVOTIROXINA 112MCG/ML 1ML 30 UNITA' USO ORALE...   \n",
       "5114     Levotiroxina  LEVOTIROXINA 125MCG/ML 1ML 30 UNITA' USO ORALE...   \n",
       "5115     Levotiroxina  LEVOTIROXINA 13MCG/ML 1ML 30 UNITA' USO ORALE ...   \n",
       "5116     Levotiroxina  LEVOTIROXINA 137MCG/ML 1ML 30 UNITA' USO ORALE...   \n",
       "5117     Levotiroxina  LEVOTIROXINA 150MCG/ML 1ML 30 UNITA' USO ORALE...   \n",
       "\n",
       "                             Denominazione e Confezione  \\\n",
       "5113  LEVOTIRSOL*orale soluz 30 flaconcini 1 ml 112 mcg   \n",
       "5114  LEVOTIRSOL*orale soluz 30 flaconcini 1 ml 125 mcg   \n",
       "5115   LEVOTIRSOL*orale soluz 30 flaconcini 1 ml 13 mcg   \n",
       "5116  LEVOTIRSOL*orale soluz 30 flaconcini 1 ml 137 mcg   \n",
       "5117  LEVOTIRSOL*orale soluz 30 flaconcini 1 ml 150 mcg   \n",
       "\n",
       "                      Titolare AIC        AIC Codice Gruppo Equivalenza  \n",
       "5113  IBSA FARMACEUTICI ITALIA Srl  046860072                       LPJ  \n",
       "5114  IBSA FARMACEUTICI ITALIA Srl  046860084                       LPK  \n",
       "5115  IBSA FARMACEUTICI ITALIA Srl  046860019                       LPH  \n",
       "5116  IBSA FARMACEUTICI ITALIA Srl  046860096                       LPL  \n",
       "5117  IBSA FARMACEUTICI ITALIA Srl  046860108                       LPM  "
      ],
      "text/html": [
       "<div>\n",
       "<style scoped>\n",
       "    .dataframe tbody tr th:only-of-type {\n",
       "        vertical-align: middle;\n",
       "    }\n",
       "\n",
       "    .dataframe tbody tr th {\n",
       "        vertical-align: top;\n",
       "    }\n",
       "\n",
       "    .dataframe thead th {\n",
       "        text-align: right;\n",
       "    }\n",
       "</style>\n",
       "<table border=\"1\" class=\"dataframe\">\n",
       "  <thead>\n",
       "    <tr style=\"text-align: right;\">\n",
       "      <th></th>\n",
       "      <th>Principio Attivo</th>\n",
       "      <th>Descrizione Gruppo</th>\n",
       "      <th>Denominazione e Confezione</th>\n",
       "      <th>Titolare AIC</th>\n",
       "      <th>AIC</th>\n",
       "      <th>Codice Gruppo Equivalenza</th>\n",
       "    </tr>\n",
       "  </thead>\n",
       "  <tbody>\n",
       "    <tr>\n",
       "      <th>5113</th>\n",
       "      <td>Levotiroxina</td>\n",
       "      <td>LEVOTIROXINA 112MCG/ML 1ML 30 UNITA' USO ORALE...</td>\n",
       "      <td>LEVOTIRSOL*orale soluz 30 flaconcini 1 ml 112 mcg</td>\n",
       "      <td>IBSA FARMACEUTICI ITALIA Srl</td>\n",
       "      <td>046860072</td>\n",
       "      <td>LPJ</td>\n",
       "    </tr>\n",
       "    <tr>\n",
       "      <th>5114</th>\n",
       "      <td>Levotiroxina</td>\n",
       "      <td>LEVOTIROXINA 125MCG/ML 1ML 30 UNITA' USO ORALE...</td>\n",
       "      <td>LEVOTIRSOL*orale soluz 30 flaconcini 1 ml 125 mcg</td>\n",
       "      <td>IBSA FARMACEUTICI ITALIA Srl</td>\n",
       "      <td>046860084</td>\n",
       "      <td>LPK</td>\n",
       "    </tr>\n",
       "    <tr>\n",
       "      <th>5115</th>\n",
       "      <td>Levotiroxina</td>\n",
       "      <td>LEVOTIROXINA 13MCG/ML 1ML 30 UNITA' USO ORALE ...</td>\n",
       "      <td>LEVOTIRSOL*orale soluz 30 flaconcini 1 ml 13 mcg</td>\n",
       "      <td>IBSA FARMACEUTICI ITALIA Srl</td>\n",
       "      <td>046860019</td>\n",
       "      <td>LPH</td>\n",
       "    </tr>\n",
       "    <tr>\n",
       "      <th>5116</th>\n",
       "      <td>Levotiroxina</td>\n",
       "      <td>LEVOTIROXINA 137MCG/ML 1ML 30 UNITA' USO ORALE...</td>\n",
       "      <td>LEVOTIRSOL*orale soluz 30 flaconcini 1 ml 137 mcg</td>\n",
       "      <td>IBSA FARMACEUTICI ITALIA Srl</td>\n",
       "      <td>046860096</td>\n",
       "      <td>LPL</td>\n",
       "    </tr>\n",
       "    <tr>\n",
       "      <th>5117</th>\n",
       "      <td>Levotiroxina</td>\n",
       "      <td>LEVOTIROXINA 150MCG/ML 1ML 30 UNITA' USO ORALE...</td>\n",
       "      <td>LEVOTIRSOL*orale soluz 30 flaconcini 1 ml 150 mcg</td>\n",
       "      <td>IBSA FARMACEUTICI ITALIA Srl</td>\n",
       "      <td>046860108</td>\n",
       "      <td>LPM</td>\n",
       "    </tr>\n",
       "  </tbody>\n",
       "</table>\n",
       "</div>"
      ]
     },
     "execution_count": 6,
     "metadata": {},
     "output_type": "execute_result"
    }
   ],
   "execution_count": 6
  },
  {
   "metadata": {
    "ExecuteTime": {
     "end_time": "2025-07-01T19:36:04.081420Z",
     "start_time": "2025-07-01T19:36:04.077651Z"
    }
   },
   "cell_type": "code",
   "source": "data.to_csv('fixeddata.csv')",
   "id": "77bf98d1030f4b86",
   "outputs": [],
   "execution_count": 7
  },
  {
   "metadata": {
    "ExecuteTime": {
     "end_time": "2025-07-01T19:38:00.194783Z",
     "start_time": "2025-07-01T19:37:41.178522Z"
    }
   },
   "cell_type": "code",
   "source": [
    "WAIT = 3\n",
    "\n",
    "df = pd.read_csv(\"fixeddata.csv\")\n",
    "aic_list = df[\"AIC\"].astype(str).str.zfill(9).tolist()\n",
    "\n",
    "results = []\n",
    "\n",
    "for aic_code in aic_list:\n",
    "    print(f\"\\n🔎 Searching AIC code: {aic_code}\")\n",
    "\n",
    "    driver = webdriver.Safari()\n",
    "    driver.get(\"https://medicinali.aifa.gov.it/it/#/it/\")\n",
    "    time.sleep(WAIT)\n",
    "\n",
    "    try:\n",
    "        checkbox = WebDriverWait(driver, 5).until(\n",
    "            EC.element_to_be_clickable((By.XPATH, \"//*[@id='disclaimercheck']\"))\n",
    "        )\n",
    "        checkbox.click()\n",
    "        print(\"✅ Checkbox marked.\")\n",
    "        time.sleep(1)\n",
    "    except:\n",
    "        print(\"⚠️ Checkbox doesn't exist.\")\n",
    "\n",
    "    try:\n",
    "        confirm_button = WebDriverWait(driver, 5).until(\n",
    "            EC.element_to_be_clickable((By.XPATH,\n",
    "                \"//button[contains(text(), \\\"Ho letto e compreso\\\") or contains(text(), 'ACCETTA') or contains(text(), 'Conferma')]\"\n",
    "            ))\n",
    "        )\n",
    "        confirm_button.click()\n",
    "        print(\"✅ Chechbox marked.\")\n",
    "        time.sleep(1)\n",
    "    except:\n",
    "        try:\n",
    "            accept_button = WebDriverWait(driver, 5).until(\n",
    "                EC.element_to_be_clickable((By.XPATH,\n",
    "                    \"//*[@id='acceptAllCookies' or contains(text(), 'Accetta')]\"\n",
    "                ))\n",
    "            )\n",
    "            accept_button.click()\n",
    "            print(\"✅ Cookies marked.\")\n",
    "            time.sleep(1)\n",
    "        except:\n",
    "            try:\n",
    "                driver.execute_script(\"document.getElementById('acceptAllCookies')?.click();\")\n",
    "                print(\"✅ Cookies marked.\")\n",
    "                time.sleep(1)\n",
    "            except:\n",
    "                print(\"⚠️ Cookies not marked.\")\n",
    "\n",
    "    try:\n",
    "        search_box = WebDriverWait(driver, 10).until(\n",
    "            EC.presence_of_element_located((By.CSS_SELECTOR, \"input[type='text']\"))\n",
    "        )\n",
    "        search_box.clear()\n",
    "        search_box.send_keys(aic_code)\n",
    "        search_box.send_keys(Keys.RETURN)\n",
    "        time.sleep(WAIT)\n",
    "\n",
    "        result_xpath = '//*[@id=\"main-content\"]/app-content/div/div/app-results-page/div[3]/div[2]/div[2]/div/div/app-forma-dosaggio/a/div/div[1]/span'\n",
    "        link = WebDriverWait(driver, 15).until(\n",
    "            EC.element_to_be_clickable((By.XPATH, result_xpath))\n",
    "        )\n",
    "        link.click()\n",
    "        time.sleep(WAIT)\n",
    "\n",
    "        try:\n",
    "            info_element = WebDriverWait(driver, 5).until(\n",
    "                EC.presence_of_element_located((By.XPATH,\n",
    "                    '//*[@id=\"main-content\"]/app-content/div/div/app-details-page/div/div[1]/div[2]/div[1]/div/div[2]/div[3]/ul/li'\n",
    "                ))\n",
    "            )\n",
    "            info_text = info_element.text.strip()\n",
    "            print(f\"ℹ️ Additional Info: {info_text}\")\n",
    "        except:\n",
    "            info_text = None\n",
    "            print(\"⚠️ Additional Info not found.\")\n",
    "\n",
    "        rcp_links = driver.find_elements(By.XPATH,\n",
    "            '//*[@id=\"main-content\"]/app-content/div/div/app-details-page/div/div[1]/div[2]/div[1]/div/div[1]/div[2]/button'\n",
    "        )\n",
    "\n",
    "        if rcp_links:\n",
    "            rcp_links[0].click()\n",
    "            time.sleep(WAIT)\n",
    "            driver.switch_to.window(driver.window_handles[-1])\n",
    "            pdf_url = driver.current_url\n",
    "            print(f\"✅ AIC {aic_code} for RCP PDF: {pdf_url}\")\n",
    "        else:\n",
    "            pdf_url = None\n",
    "            print(\"⚠️ RCP connection not found.\")\n",
    "\n",
    "        results.append((aic_code, pdf_url, info_text))\n",
    "\n",
    "    except Exception as e:\n",
    "        print(f\"❌ Error: {e}\")\n",
    "        results.append((aic_code, None, None))\n",
    "\n",
    "    driver.quit()\n",
    "result_df = pd.DataFrame(results, columns=[\"AIC Code\", \"RCP PDF URL\", \"Info Text\"])\n",
    "result_df.to_csv(\"rcp_results.csv\", index=False, encoding='utf-8')\n",
    "\n",
    "print(\"\\n📄 All results are saved in file 'rcp_results.csv'.\")"
   ],
   "id": "2c860ea3a609571e",
   "outputs": [
    {
     "name": "stdout",
     "output_type": "stream",
     "text": [
      "\n",
      "🔎 Searching AIC code: 046860072\n"
     ]
    },
    {
     "ename": "WebDriverException",
     "evalue": "Message: \n",
     "output_type": "error",
     "traceback": [
      "\u001B[0;31m---------------------------------------------------------------------------\u001B[0m",
      "\u001B[0;31mWebDriverException\u001B[0m                        Traceback (most recent call last)",
      "Cell \u001B[0;32mIn[10], line 12\u001B[0m\n\u001B[1;32m      9\u001B[0m \u001B[38;5;28mprint\u001B[39m(\u001B[38;5;124mf\u001B[39m\u001B[38;5;124m\"\u001B[39m\u001B[38;5;130;01m\\n\u001B[39;00m\u001B[38;5;124m🔎 Searching AIC code: \u001B[39m\u001B[38;5;132;01m{\u001B[39;00maic_code\u001B[38;5;132;01m}\u001B[39;00m\u001B[38;5;124m\"\u001B[39m)\n\u001B[1;32m     11\u001B[0m driver \u001B[38;5;241m=\u001B[39m webdriver\u001B[38;5;241m.\u001B[39mSafari()\n\u001B[0;32m---> 12\u001B[0m \u001B[43mdriver\u001B[49m\u001B[38;5;241;43m.\u001B[39;49m\u001B[43mget\u001B[49m\u001B[43m(\u001B[49m\u001B[38;5;124;43m\"\u001B[39;49m\u001B[38;5;124;43mhttps://medicinali.aifa.gov.it/it/#/it/\u001B[39;49m\u001B[38;5;124;43m\"\u001B[39;49m\u001B[43m)\u001B[49m\n\u001B[1;32m     13\u001B[0m time\u001B[38;5;241m.\u001B[39msleep(WAIT)\n\u001B[1;32m     15\u001B[0m \u001B[38;5;28;01mtry\u001B[39;00m:\n",
      "File \u001B[0;32m~/Library/Python/3.9/lib/python/site-packages/selenium/webdriver/remote/webdriver.py:472\u001B[0m, in \u001B[0;36mWebDriver.get\u001B[0;34m(self, url)\u001B[0m\n\u001B[1;32m    454\u001B[0m \u001B[38;5;28;01mdef\u001B[39;00m\u001B[38;5;250m \u001B[39m\u001B[38;5;21mget\u001B[39m(\u001B[38;5;28mself\u001B[39m, url: \u001B[38;5;28mstr\u001B[39m) \u001B[38;5;241m-\u001B[39m\u001B[38;5;241m>\u001B[39m \u001B[38;5;28;01mNone\u001B[39;00m:\n\u001B[1;32m    455\u001B[0m \u001B[38;5;250m    \u001B[39m\u001B[38;5;124;03m\"\"\"Navigate the browser to the specified URL in the current window or\u001B[39;00m\n\u001B[1;32m    456\u001B[0m \u001B[38;5;124;03m    tab.\u001B[39;00m\n\u001B[1;32m    457\u001B[0m \n\u001B[0;32m   (...)\u001B[0m\n\u001B[1;32m    470\u001B[0m \u001B[38;5;124;03m    >>> driver.get(\"https://example.com\")\u001B[39;00m\n\u001B[1;32m    471\u001B[0m \u001B[38;5;124;03m    \"\"\"\u001B[39;00m\n\u001B[0;32m--> 472\u001B[0m     \u001B[38;5;28;43mself\u001B[39;49m\u001B[38;5;241;43m.\u001B[39;49m\u001B[43mexecute\u001B[49m\u001B[43m(\u001B[49m\u001B[43mCommand\u001B[49m\u001B[38;5;241;43m.\u001B[39;49m\u001B[43mGET\u001B[49m\u001B[43m,\u001B[49m\u001B[43m \u001B[49m\u001B[43m{\u001B[49m\u001B[38;5;124;43m\"\u001B[39;49m\u001B[38;5;124;43murl\u001B[39;49m\u001B[38;5;124;43m\"\u001B[39;49m\u001B[43m:\u001B[49m\u001B[43m \u001B[49m\u001B[43murl\u001B[49m\u001B[43m}\u001B[49m\u001B[43m)\u001B[49m\n",
      "File \u001B[0;32m~/Library/Python/3.9/lib/python/site-packages/selenium/webdriver/remote/webdriver.py:447\u001B[0m, in \u001B[0;36mWebDriver.execute\u001B[0;34m(self, driver_command, params)\u001B[0m\n\u001B[1;32m    445\u001B[0m response \u001B[38;5;241m=\u001B[39m \u001B[38;5;28mself\u001B[39m\u001B[38;5;241m.\u001B[39mcommand_executor\u001B[38;5;241m.\u001B[39mexecute(driver_command, params)\n\u001B[1;32m    446\u001B[0m \u001B[38;5;28;01mif\u001B[39;00m response:\n\u001B[0;32m--> 447\u001B[0m     \u001B[38;5;28;43mself\u001B[39;49m\u001B[38;5;241;43m.\u001B[39;49m\u001B[43merror_handler\u001B[49m\u001B[38;5;241;43m.\u001B[39;49m\u001B[43mcheck_response\u001B[49m\u001B[43m(\u001B[49m\u001B[43mresponse\u001B[49m\u001B[43m)\u001B[49m\n\u001B[1;32m    448\u001B[0m     response[\u001B[38;5;124m\"\u001B[39m\u001B[38;5;124mvalue\u001B[39m\u001B[38;5;124m\"\u001B[39m] \u001B[38;5;241m=\u001B[39m \u001B[38;5;28mself\u001B[39m\u001B[38;5;241m.\u001B[39m_unwrap_value(response\u001B[38;5;241m.\u001B[39mget(\u001B[38;5;124m\"\u001B[39m\u001B[38;5;124mvalue\u001B[39m\u001B[38;5;124m\"\u001B[39m, \u001B[38;5;28;01mNone\u001B[39;00m))\n\u001B[1;32m    449\u001B[0m     \u001B[38;5;28;01mreturn\u001B[39;00m response\n",
      "File \u001B[0;32m~/Library/Python/3.9/lib/python/site-packages/selenium/webdriver/remote/errorhandler.py:232\u001B[0m, in \u001B[0;36mErrorHandler.check_response\u001B[0;34m(self, response)\u001B[0m\n\u001B[1;32m    230\u001B[0m         alert_text \u001B[38;5;241m=\u001B[39m value[\u001B[38;5;124m\"\u001B[39m\u001B[38;5;124malert\u001B[39m\u001B[38;5;124m\"\u001B[39m]\u001B[38;5;241m.\u001B[39mget(\u001B[38;5;124m\"\u001B[39m\u001B[38;5;124mtext\u001B[39m\u001B[38;5;124m\"\u001B[39m)\n\u001B[1;32m    231\u001B[0m     \u001B[38;5;28;01mraise\u001B[39;00m exception_class(message, screen, stacktrace, alert_text)  \u001B[38;5;66;03m# type: ignore[call-arg]  # mypy is not smart enough here\u001B[39;00m\n\u001B[0;32m--> 232\u001B[0m \u001B[38;5;28;01mraise\u001B[39;00m exception_class(message, screen, stacktrace)\n",
      "\u001B[0;31mWebDriverException\u001B[0m: Message: \n"
     ]
    }
   ],
   "execution_count": 10
  },
  {
   "metadata": {
    "ExecuteTime": {
     "end_time": "2025-07-01T21:20:37.974107Z",
     "start_time": "2025-07-01T21:20:37.885876Z"
    }
   },
   "cell_type": "code",
   "source": [
    "# CSV dosyalarını oku\n",
    "df1 = pd.read_csv(\"fixeddata.csv\")\n",
    "df2 = pd.read_csv(\"rcp_results.csv\")\n",
    "\n",
    "birlesik_df = pd.concat([df1, df2], axis=1)\n",
    "\n",
    "# Sonucu kaydet\n",
    "birlesik_df.to_csv(\"merged.csv\", index=False)"
   ],
   "id": "818700315f9c3f29",
   "outputs": [
    {
     "ename": "NameError",
     "evalue": "name 'pd' is not defined",
     "output_type": "error",
     "traceback": [
      "\u001B[0;31m---------------------------------------------------------------------------\u001B[0m",
      "\u001B[0;31mNameError\u001B[0m                                 Traceback (most recent call last)",
      "Cell \u001B[0;32mIn[1], line 2\u001B[0m\n\u001B[1;32m      1\u001B[0m \u001B[38;5;66;03m# CSV dosyalarını oku\u001B[39;00m\n\u001B[0;32m----> 2\u001B[0m df1 \u001B[38;5;241m=\u001B[39m \u001B[43mpd\u001B[49m\u001B[38;5;241m.\u001B[39mread_csv(\u001B[38;5;124m\"\u001B[39m\u001B[38;5;124mfixeddata.csv\u001B[39m\u001B[38;5;124m\"\u001B[39m)\n\u001B[1;32m      3\u001B[0m df2 \u001B[38;5;241m=\u001B[39m pd\u001B[38;5;241m.\u001B[39mread_csv(\u001B[38;5;124m\"\u001B[39m\u001B[38;5;124mrcp_results.csv\u001B[39m\u001B[38;5;124m\"\u001B[39m)\n\u001B[1;32m      5\u001B[0m birlesik_df \u001B[38;5;241m=\u001B[39m pd\u001B[38;5;241m.\u001B[39mconcat([df1, df2], axis\u001B[38;5;241m=\u001B[39m\u001B[38;5;241m1\u001B[39m)\n",
      "\u001B[0;31mNameError\u001B[0m: name 'pd' is not defined"
     ]
    }
   ],
   "execution_count": 1
  },
  {
   "metadata": {
    "ExecuteTime": {
     "end_time": "2025-07-01T21:20:38.232636Z",
     "start_time": "2025-07-01T21:20:38.221245Z"
    }
   },
   "cell_type": "code",
   "source": [
    "df = pd.read_csv(\"merged.csv\")\n",
    "df[df[\"RCP PDF URL\"].isna()]"
   ],
   "id": "462b89fac451bb72",
   "outputs": [
    {
     "ename": "NameError",
     "evalue": "name 'pd' is not defined",
     "output_type": "error",
     "traceback": [
      "\u001B[0;31m---------------------------------------------------------------------------\u001B[0m",
      "\u001B[0;31mNameError\u001B[0m                                 Traceback (most recent call last)",
      "Cell \u001B[0;32mIn[2], line 1\u001B[0m\n\u001B[0;32m----> 1\u001B[0m df \u001B[38;5;241m=\u001B[39m \u001B[43mpd\u001B[49m\u001B[38;5;241m.\u001B[39mread_csv(\u001B[38;5;124m\"\u001B[39m\u001B[38;5;124mmerged.csv\u001B[39m\u001B[38;5;124m\"\u001B[39m)\n\u001B[1;32m      2\u001B[0m df[df[\u001B[38;5;124m\"\u001B[39m\u001B[38;5;124mRCP PDF URL\u001B[39m\u001B[38;5;124m\"\u001B[39m]\u001B[38;5;241m.\u001B[39misna()]\n",
      "\u001B[0;31mNameError\u001B[0m: name 'pd' is not defined"
     ]
    }
   ],
   "execution_count": 2
  },
  {
   "metadata": {},
   "cell_type": "code",
   "outputs": [],
   "execution_count": null,
   "source": [
    "df = pd.read_csv(\"merged.csv\")\n",
    "df[df[\"RCP PDF URL\"].isna()]"
   ],
   "id": "f3e83f945072727f"
  },
  {
   "metadata": {},
   "cell_type": "code",
   "outputs": [],
   "execution_count": null,
   "source": [
    "df = pd.read_csv(\"merged.csv\")\n",
    "temiz_df = df.dropna()\n",
    "\n",
    "temiz_df.to_csv(\"clear.csv\", index=False)\n",
    "\n",
    "df = pd.read_csv(\"clear.csv\")\n",
    "df"
   ],
   "id": "3c590db2654dc508"
  }
 ],
 "metadata": {
  "kernelspec": {
   "display_name": "Python 3",
   "language": "python",
   "name": "python3"
  },
  "language_info": {
   "codemirror_mode": {
    "name": "ipython",
    "version": 2
   },
   "file_extension": ".py",
   "mimetype": "text/x-python",
   "name": "python",
   "nbconvert_exporter": "python",
   "pygments_lexer": "ipython2",
   "version": "2.7.6"
  }
 },
 "nbformat": 4,
 "nbformat_minor": 5
}
